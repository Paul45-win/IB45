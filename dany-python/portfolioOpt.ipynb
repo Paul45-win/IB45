{
 "cells": [
  {
   "cell_type": "code",
   "execution_count": 1,
   "metadata": {},
   "outputs": [],
   "source": [
    "#Portfolio Optimsation using Efficient Frontier for Team Dany"
   ]
  },
  {
   "cell_type": "code",
   "execution_count": 2,
   "metadata": {},
   "outputs": [],
   "source": [
    "#Importing the required libraries\n",
    "from pandas_datareader import data as web \n",
    "import pandas as pd\n",
    "import numpy as np\n",
    "from datetime import datetime\n",
    "import matplotlib.pyplot as plt\n",
    "plt.style.use('fivethirtyeight')"
   ]
  },
  {
   "cell_type": "code",
   "execution_count": 3,
   "metadata": {},
   "outputs": [],
   "source": [
    "assets =  [\"FB\", \"AMZN\", \"AAPL\", \"NFLX\", \"GOOG\"]"
   ]
  },
  {
   "cell_type": "code",
   "execution_count": null,
   "metadata": {},
   "outputs": [],
   "source": []
  },
  {
   "cell_type": "code",
   "execution_count": 5,
   "metadata": {},
   "outputs": [],
   "source": [
    "# Assign weights to the stocks. Weights must = 1 so 0.2 for each\n",
    "weights = np.array([0.2, 0.2, 0.2, 0.2, 0.2])\n"
   ]
  },
  {
   "cell_type": "code",
   "execution_count": 6,
   "metadata": {},
   "outputs": [],
   "source": [
    "#Get the stock starting date\n",
    "stockStartDate = '2013-01-01'\n",
    "# Get the stocks ending date aka todays date and format it in the form YYYY-MM-DD\n",
    "today = datetime.today().strftime('%Y-%m-%d')"
   ]
  },
  {
   "cell_type": "code",
   "execution_count": 11,
   "metadata": {},
   "outputs": [
    {
     "data": {
      "text/html": [
       "<div>\n",
       "<style scoped>\n",
       "    .dataframe tbody tr th:only-of-type {\n",
       "        vertical-align: middle;\n",
       "    }\n",
       "\n",
       "    .dataframe tbody tr th {\n",
       "        vertical-align: top;\n",
       "    }\n",
       "\n",
       "    .dataframe thead th {\n",
       "        text-align: right;\n",
       "    }\n",
       "</style>\n",
       "<table border=\"1\" class=\"dataframe\">\n",
       "  <thead>\n",
       "    <tr style=\"text-align: right;\">\n",
       "      <th></th>\n",
       "      <th>FB</th>\n",
       "      <th>AMZN</th>\n",
       "      <th>AAPL</th>\n",
       "      <th>NFLX</th>\n",
       "      <th>GOOG</th>\n",
       "    </tr>\n",
       "    <tr>\n",
       "      <th>Date</th>\n",
       "      <th></th>\n",
       "      <th></th>\n",
       "      <th></th>\n",
       "      <th></th>\n",
       "      <th></th>\n",
       "    </tr>\n",
       "  </thead>\n",
       "  <tbody>\n",
       "    <tr>\n",
       "      <th>2013-01-02</th>\n",
       "      <td>28.000000</td>\n",
       "      <td>257.309998</td>\n",
       "      <td>17.039789</td>\n",
       "      <td>13.144286</td>\n",
       "      <td>360.274597</td>\n",
       "    </tr>\n",
       "    <tr>\n",
       "      <th>2013-01-03</th>\n",
       "      <td>27.770000</td>\n",
       "      <td>258.480011</td>\n",
       "      <td>16.824715</td>\n",
       "      <td>13.798571</td>\n",
       "      <td>360.483826</td>\n",
       "    </tr>\n",
       "    <tr>\n",
       "      <th>2013-01-04</th>\n",
       "      <td>28.760000</td>\n",
       "      <td>259.149994</td>\n",
       "      <td>16.356062</td>\n",
       "      <td>13.711429</td>\n",
       "      <td>367.607117</td>\n",
       "    </tr>\n",
       "    <tr>\n",
       "      <th>2013-01-07</th>\n",
       "      <td>29.420000</td>\n",
       "      <td>268.459991</td>\n",
       "      <td>16.259851</td>\n",
       "      <td>14.171429</td>\n",
       "      <td>366.003143</td>\n",
       "    </tr>\n",
       "    <tr>\n",
       "      <th>2013-01-08</th>\n",
       "      <td>29.059999</td>\n",
       "      <td>266.380005</td>\n",
       "      <td>16.303608</td>\n",
       "      <td>13.880000</td>\n",
       "      <td>365.280823</td>\n",
       "    </tr>\n",
       "    <tr>\n",
       "      <th>...</th>\n",
       "      <td>...</td>\n",
       "      <td>...</td>\n",
       "      <td>...</td>\n",
       "      <td>...</td>\n",
       "      <td>...</td>\n",
       "    </tr>\n",
       "    <tr>\n",
       "      <th>2021-02-10</th>\n",
       "      <td>271.869995</td>\n",
       "      <td>3286.580078</td>\n",
       "      <td>135.389999</td>\n",
       "      <td>563.590027</td>\n",
       "      <td>2095.379883</td>\n",
       "    </tr>\n",
       "    <tr>\n",
       "      <th>2021-02-11</th>\n",
       "      <td>270.390015</td>\n",
       "      <td>3262.129883</td>\n",
       "      <td>135.130005</td>\n",
       "      <td>557.590027</td>\n",
       "      <td>2095.889893</td>\n",
       "    </tr>\n",
       "    <tr>\n",
       "      <th>2021-02-12</th>\n",
       "      <td>270.500000</td>\n",
       "      <td>3277.709961</td>\n",
       "      <td>135.369995</td>\n",
       "      <td>556.520020</td>\n",
       "      <td>2104.110107</td>\n",
       "    </tr>\n",
       "    <tr>\n",
       "      <th>2021-02-16</th>\n",
       "      <td>273.970001</td>\n",
       "      <td>3268.949951</td>\n",
       "      <td>133.190002</td>\n",
       "      <td>557.280029</td>\n",
       "      <td>2121.899902</td>\n",
       "    </tr>\n",
       "    <tr>\n",
       "      <th>2021-02-17</th>\n",
       "      <td>273.570007</td>\n",
       "      <td>3308.639893</td>\n",
       "      <td>130.839996</td>\n",
       "      <td>551.340027</td>\n",
       "      <td>2128.310059</td>\n",
       "    </tr>\n",
       "  </tbody>\n",
       "</table>\n",
       "<p>2046 rows × 5 columns</p>\n",
       "</div>"
      ],
      "text/plain": [
       "                    FB         AMZN        AAPL        NFLX         GOOG\n",
       "Date                                                                    \n",
       "2013-01-02   28.000000   257.309998   17.039789   13.144286   360.274597\n",
       "2013-01-03   27.770000   258.480011   16.824715   13.798571   360.483826\n",
       "2013-01-04   28.760000   259.149994   16.356062   13.711429   367.607117\n",
       "2013-01-07   29.420000   268.459991   16.259851   14.171429   366.003143\n",
       "2013-01-08   29.059999   266.380005   16.303608   13.880000   365.280823\n",
       "...                ...          ...         ...         ...          ...\n",
       "2021-02-10  271.869995  3286.580078  135.389999  563.590027  2095.379883\n",
       "2021-02-11  270.390015  3262.129883  135.130005  557.590027  2095.889893\n",
       "2021-02-12  270.500000  3277.709961  135.369995  556.520020  2104.110107\n",
       "2021-02-16  273.970001  3268.949951  133.190002  557.280029  2121.899902\n",
       "2021-02-17  273.570007  3308.639893  130.839996  551.340027  2128.310059\n",
       "\n",
       "[2046 rows x 5 columns]"
      ]
     },
     "execution_count": 11,
     "metadata": {},
     "output_type": "execute_result"
    }
   ],
   "source": [
    "#Create a dataframe to store the adjusted close price of the stocks\n",
    "df = pd.DataFrame()\n",
    "#Store the adjusted close price of stock into the data frame\n",
    "for stock in assets:\n",
    "    df[stock] = web.DataReader(stock,data_source='yahoo',start=stockStartDate , end=today)['Adj Close']\n",
    "df\n"
   ]
  },
  {
   "cell_type": "code",
   "execution_count": 14,
   "metadata": {},
   "outputs": [
    {
     "data": {
      "image/png": "[encoded data removed]",
      "text/plain": [
       "<Figure size 878.4x324 with 1 Axes>"
      ]
     },
     "metadata": {},
     "output_type": "display_data"
    }
   ],
   "source": [
    "# Create the title 'Portfolio Adj Close Price History\n",
    "title = 'Portfolio Adj. Close Price History    '\n",
    "#Get the stocks\n",
    "my_stocks = df\n",
    "#Create and plot the graph\n",
    "plt.figure(figsize=(12.2,4.5)) #width = 12.2in, height = 4.5\n",
    "# Loop through each stock and plot the Adj Close for each day\n",
    "for c in my_stocks.columns.values:\n",
    "  plt.plot( my_stocks[c],  label=c)#plt.plot( X-Axis , Y-Axis, line_width, alpha_for_blending,  label)\n",
    "plt.title(title)\n",
    "plt.xlabel('Date',fontsize=18)\n",
    "plt.ylabel('Adj. Price USD ($)',fontsize=18)\n",
    "plt.legend(my_stocks.columns.values, loc='upper left')\n",
    "plt.show()"
   ]
  },
  {
   "cell_type": "code",
   "execution_count": 15,
   "metadata": {},
   "outputs": [
    {
     "data": {
      "text/html": [
       "<div>\n",
       "<style scoped>\n",
       "    .dataframe tbody tr th:only-of-type {\n",
       "        vertical-align: middle;\n",
       "    }\n",
       "\n",
       "    .dataframe tbody tr th {\n",
       "        vertical-align: top;\n",
       "    }\n",
       "\n",
       "    .dataframe thead th {\n",
       "        text-align: right;\n",
       "    }\n",
       "</style>\n",
       "<table border=\"1\" class=\"dataframe\">\n",
       "  <thead>\n",
       "    <tr style=\"text-align: right;\">\n",
       "      <th></th>\n",
       "      <th>FB</th>\n",
       "      <th>AMZN</th>\n",
       "      <th>AAPL</th>\n",
       "      <th>NFLX</th>\n",
       "      <th>GOOG</th>\n",
       "    </tr>\n",
       "    <tr>\n",
       "      <th>Date</th>\n",
       "      <th></th>\n",
       "      <th></th>\n",
       "      <th></th>\n",
       "      <th></th>\n",
       "      <th></th>\n",
       "    </tr>\n",
       "  </thead>\n",
       "  <tbody>\n",
       "    <tr>\n",
       "      <th>2013-01-02</th>\n",
       "      <td>NaN</td>\n",
       "      <td>NaN</td>\n",
       "      <td>NaN</td>\n",
       "      <td>NaN</td>\n",
       "      <td>NaN</td>\n",
       "    </tr>\n",
       "    <tr>\n",
       "      <th>2013-01-03</th>\n",
       "      <td>-0.008214</td>\n",
       "      <td>0.004547</td>\n",
       "      <td>-0.012622</td>\n",
       "      <td>0.049777</td>\n",
       "      <td>0.000581</td>\n",
       "    </tr>\n",
       "    <tr>\n",
       "      <th>2013-01-04</th>\n",
       "      <td>0.035650</td>\n",
       "      <td>0.002592</td>\n",
       "      <td>-0.027855</td>\n",
       "      <td>-0.006315</td>\n",
       "      <td>0.019760</td>\n",
       "    </tr>\n",
       "    <tr>\n",
       "      <th>2013-01-07</th>\n",
       "      <td>0.022949</td>\n",
       "      <td>0.035925</td>\n",
       "      <td>-0.005882</td>\n",
       "      <td>0.033549</td>\n",
       "      <td>-0.004363</td>\n",
       "    </tr>\n",
       "    <tr>\n",
       "      <th>2013-01-08</th>\n",
       "      <td>-0.012237</td>\n",
       "      <td>-0.007748</td>\n",
       "      <td>0.002691</td>\n",
       "      <td>-0.020565</td>\n",
       "      <td>-0.001974</td>\n",
       "    </tr>\n",
       "    <tr>\n",
       "      <th>...</th>\n",
       "      <td>...</td>\n",
       "      <td>...</td>\n",
       "      <td>...</td>\n",
       "      <td>...</td>\n",
       "      <td>...</td>\n",
       "    </tr>\n",
       "    <tr>\n",
       "      <th>2021-02-10</th>\n",
       "      <td>0.008981</td>\n",
       "      <td>-0.005573</td>\n",
       "      <td>-0.004558</td>\n",
       "      <td>0.008085</td>\n",
       "      <td>0.005697</td>\n",
       "    </tr>\n",
       "    <tr>\n",
       "      <th>2021-02-11</th>\n",
       "      <td>-0.005444</td>\n",
       "      <td>-0.007439</td>\n",
       "      <td>-0.001920</td>\n",
       "      <td>-0.010646</td>\n",
       "      <td>0.000243</td>\n",
       "    </tr>\n",
       "    <tr>\n",
       "      <th>2021-02-12</th>\n",
       "      <td>0.000407</td>\n",
       "      <td>0.004776</td>\n",
       "      <td>0.001776</td>\n",
       "      <td>-0.001919</td>\n",
       "      <td>0.003922</td>\n",
       "    </tr>\n",
       "    <tr>\n",
       "      <th>2021-02-16</th>\n",
       "      <td>0.012828</td>\n",
       "      <td>-0.002673</td>\n",
       "      <td>-0.016104</td>\n",
       "      <td>0.001366</td>\n",
       "      <td>0.008455</td>\n",
       "    </tr>\n",
       "    <tr>\n",
       "      <th>2021-02-17</th>\n",
       "      <td>-0.001460</td>\n",
       "      <td>0.012141</td>\n",
       "      <td>-0.017644</td>\n",
       "      <td>-0.010659</td>\n",
       "      <td>0.003021</td>\n",
       "    </tr>\n",
       "  </tbody>\n",
       "</table>\n",
       "<p>2046 rows × 5 columns</p>\n",
       "</div>"
      ],
      "text/plain": [
       "                  FB      AMZN      AAPL      NFLX      GOOG\n",
       "Date                                                        \n",
       "2013-01-02       NaN       NaN       NaN       NaN       NaN\n",
       "2013-01-03 -0.008214  0.004547 -0.012622  0.049777  0.000581\n",
       "2013-01-04  0.035650  0.002592 -0.027855 -0.006315  0.019760\n",
       "2013-01-07  0.022949  0.035925 -0.005882  0.033549 -0.004363\n",
       "2013-01-08 -0.012237 -0.007748  0.002691 -0.020565 -0.001974\n",
       "...              ...       ...       ...       ...       ...\n",
       "2021-02-10  0.008981 -0.005573 -0.004558  0.008085  0.005697\n",
       "2021-02-11 -0.005444 -0.007439 -0.001920 -0.010646  0.000243\n",
       "2021-02-12  0.000407  0.004776  0.001776 -0.001919  0.003922\n",
       "2021-02-16  0.012828 -0.002673 -0.016104  0.001366  0.008455\n",
       "2021-02-17 -0.001460  0.012141 -0.017644 -0.010659  0.003021\n",
       "\n",
       "[2046 rows x 5 columns]"
      ]
     },
     "execution_count": 15,
     "metadata": {},
     "output_type": "execute_result"
    }
   ],
   "source": [
    "#Show the daily simple returns, NOTE: Formula = new_price/old_price - 1\n",
    "returns = df.pct_change()\n",
    "returns"
   ]
  },
  {
   "cell_type": "code",
   "execution_count": 16,
   "metadata": {},
   "outputs": [
    {
     "data": {
      "text/html": [
       "<div>\n",
       "<style scoped>\n",
       "    .dataframe tbody tr th:only-of-type {\n",
       "        vertical-align: middle;\n",
       "    }\n",
       "\n",
       "    .dataframe tbody tr th {\n",
       "        vertical-align: top;\n",
       "    }\n",
       "\n",
       "    .dataframe thead th {\n",
       "        text-align: right;\n",
       "    }\n",
       "</style>\n",
       "<table border=\"1\" class=\"dataframe\">\n",
       "  <thead>\n",
       "    <tr style=\"text-align: right;\">\n",
       "      <th></th>\n",
       "      <th>FB</th>\n",
       "      <th>AMZN</th>\n",
       "      <th>AAPL</th>\n",
       "      <th>NFLX</th>\n",
       "      <th>GOOG</th>\n",
       "    </tr>\n",
       "  </thead>\n",
       "  <tbody>\n",
       "    <tr>\n",
       "      <th>FB</th>\n",
       "      <td>0.118348</td>\n",
       "      <td>0.054999</td>\n",
       "      <td>0.045035</td>\n",
       "      <td>0.057045</td>\n",
       "      <td>0.050520</td>\n",
       "    </tr>\n",
       "    <tr>\n",
       "      <th>AMZN</th>\n",
       "      <td>0.054999</td>\n",
       "      <td>0.093730</td>\n",
       "      <td>0.040014</td>\n",
       "      <td>0.064061</td>\n",
       "      <td>0.047722</td>\n",
       "    </tr>\n",
       "    <tr>\n",
       "      <th>AAPL</th>\n",
       "      <td>0.045035</td>\n",
       "      <td>0.040014</td>\n",
       "      <td>0.082027</td>\n",
       "      <td>0.035626</td>\n",
       "      <td>0.038512</td>\n",
       "    </tr>\n",
       "    <tr>\n",
       "      <th>NFLX</th>\n",
       "      <td>0.057045</td>\n",
       "      <td>0.064061</td>\n",
       "      <td>0.035626</td>\n",
       "      <td>0.212770</td>\n",
       "      <td>0.049516</td>\n",
       "    </tr>\n",
       "    <tr>\n",
       "      <th>GOOG</th>\n",
       "      <td>0.050520</td>\n",
       "      <td>0.047722</td>\n",
       "      <td>0.038512</td>\n",
       "      <td>0.049516</td>\n",
       "      <td>0.066876</td>\n",
       "    </tr>\n",
       "  </tbody>\n",
       "</table>\n",
       "</div>"
      ],
      "text/plain": [
       "            FB      AMZN      AAPL      NFLX      GOOG\n",
       "FB    0.118348  0.054999  0.045035  0.057045  0.050520\n",
       "AMZN  0.054999  0.093730  0.040014  0.064061  0.047722\n",
       "AAPL  0.045035  0.040014  0.082027  0.035626  0.038512\n",
       "NFLX  0.057045  0.064061  0.035626  0.212770  0.049516\n",
       "GOOG  0.050520  0.047722  0.038512  0.049516  0.066876"
      ]
     },
     "execution_count": 16,
     "metadata": {},
     "output_type": "execute_result"
    }
   ],
   "source": [
    "cov_matrix_annual = returns.cov() * 252\n",
    "cov_matrix_annual"
   ]
  },
  {
   "cell_type": "code",
   "execution_count": 25,
   "metadata": {},
   "outputs": [
    {
     "data": {
      "text/plain": [
       "0.06159406586019663"
      ]
     },
     "execution_count": 25,
     "metadata": {},
     "output_type": "execute_result"
    }
   ],
   "source": [
    "port_variance = np.dot(weights.T, np.dot(cov_matrix_annual, weights))\n",
    "port_variance"
   ]
  },
  {
   "cell_type": "code",
   "execution_count": 26,
   "metadata": {},
   "outputs": [
    {
     "data": {
      "text/plain": [
       "0.24818151796658153"
      ]
     },
     "execution_count": 26,
     "metadata": {},
     "output_type": "execute_result"
    }
   ],
   "source": [
    "port_volatility = np.sqrt(port_variance)\n",
    "port_volatility"
   ]
  },
  {
   "cell_type": "code",
   "execution_count": 27,
   "metadata": {},
   "outputs": [
    {
     "data": {
      "text/plain": [
       "0.36181235866871553"
      ]
     },
     "execution_count": 27,
     "metadata": {},
     "output_type": "execute_result"
    }
   ],
   "source": [
    "portfolioSimpleAnnualReturn = np.sum(returns.mean()*weights) * 252\n",
    "portfolioSimpleAnnualReturn"
   ]
  },
  {
   "cell_type": "code",
   "execution_count": 28,
   "metadata": {},
   "outputs": [],
   "source": [
    "#importing libraries for plotting the efficient frontier"
   ]
  },
  {
   "cell_type": "code",
   "execution_count": 29,
   "metadata": {},
   "outputs": [],
   "source": [
    "from pypfopt.efficient_frontier import EfficientFrontier\n",
    "from pypfopt import risk_models\n",
    "from pypfopt import expected_returns"
   ]
  },
  {
   "cell_type": "code",
   "execution_count": 30,
   "metadata": {},
   "outputs": [],
   "source": [
    "mu = expected_returns.mean_historical_return(df)#returns.mean() * 252\n",
    "S = risk_models.sample_cov(df) #Get the sample covariance matrix"
   ]
  },
  {
   "cell_type": "code",
   "execution_count": 31,
   "metadata": {},
   "outputs": [
    {
     "name": "stdout",
     "output_type": "stream",
     "text": [
      "OrderedDict([('FB', 0.07226), ('AMZN', 0.31389), ('AAPL', 0.27082), ('NFLX', 0.34303), ('GOOG', 0.0)])\n",
      "Expected annual return: 41.7%\n",
      "Annual volatility: 27.4%\n",
      "Sharpe Ratio: 1.45\n"
     ]
    },
    {
     "data": {
      "text/plain": [
       "(0.41745259825070774, 0.2742412343675832, 1.4492809557514477)"
      ]
     },
     "execution_count": 31,
     "metadata": {},
     "output_type": "execute_result"
    }
   ],
   "source": [
    "ef = EfficientFrontier(mu, S)\n",
    "weights = ef.max_sharpe() #Maximize the Sharpe ratio, and get the raw weights\n",
    "cleaned_weights = ef.clean_weights() \n",
    "print(cleaned_weights) #Note the weights may have some rounding error, meaning they may not add up exactly to 1 but should be close\n",
    "ef.portfolio_performance(verbose=True)"
   ]
  },
  {
   "cell_type": "code",
   "execution_count": 32,
   "metadata": {},
   "outputs": [
    {
     "name": "stdout",
     "output_type": "stream",
     "text": [
      "Discrete allocation: {'FB': 4, 'AMZN': 1, 'AAPL': 32, 'NFLX': 10}\n",
      "Funds remaining: $896.80\n"
     ]
    }
   ],
   "source": [
    "from pypfopt.discrete_allocation import DiscreteAllocation, get_latest_prices\n",
    "latest_prices = get_latest_prices(df)\n",
    "weights = cleaned_weights \n",
    "da = DiscreteAllocation(weights, latest_prices, total_portfolio_value=15000)\n",
    "allocation, leftover = da.lp_portfolio()\n",
    "print(\"Discrete allocation:\", allocation)\n",
    "print(\"Funds remaining: ${:.2f}\".format(leftover))\n"
   ]
  },
  {
   "cell_type": "code",
   "execution_count": null,
   "metadata": {},
   "outputs": [],
   "source": []
  }
 ],
 "metadata": {
  "kernelspec": {
   "display_name": "Python 3",
   "language": "python",
   "name": "python3"
  },
  "language_info": {
   "codemirror_mode": {
    "name": "ipython",
    "version": 3
   },
   "file_extension": ".py",
   "mimetype": "text/x-python",
   "name": "python",
   "nbconvert_exporter": "python",
   "pygments_lexer": "ipython3",
   "version": "3.8.5"
  }
 },
 "nbformat": 4,
 "nbformat_minor": 4
}
